{
 "cells": [
  {
   "attachments": {},
   "cell_type": "markdown",
   "metadata": {},
   "source": [
    "# Katrina Tang"
   ]
  },
  {
   "attachments": {},
   "cell_type": "markdown",
   "metadata": {},
   "source": [
    "## Research question/interests\n",
    "\n",
    "**My part of the project will be looking further into the correlation between demographic, specifically age and sex, related to housing affordability.**\n",
    "\n",
    "In regards to sex, I will be analyzing Male versus Female in terms of housing affordability. Then the correlation with age ranges of 20-30, 40-50 and then 60-70 will be analyzed with respect to housing affordability.\n",
    "I will be visualizing housing affordability by comparing the cost of homes to the demographics of home owners. \n"
   ]
  },
  {
   "cell_type": "code",
   "execution_count": 1,
   "metadata": {},
   "outputs": [],
   "source": [
    "import pandas as pd\n",
    "\n",
    "DailyInterestRate = pd.read_csv(\"../data/raw/DailyInterestRates/DailyInterestRates.csv\")\n",
    "NewHousingPIndex = pd.read_csv(\"../data/raw/NewHousingPIndex/NewHousingPIndex.csv\")\n",
    "NewInventory = pd.read_csv(\"../data/raw/NewInventory/NewInventory.csv\", low_memory = False)\n",
    "PopEstimate = pd.read_csv(\"../data/raw/PopEstimate/PopEstimate.csv\")"
   ]
  }
 ],
 "metadata": {
  "kernelspec": {
   "display_name": "base",
   "language": "python",
   "name": "python3"
  },
  "language_info": {
   "codemirror_mode": {
    "name": "ipython",
    "version": 3
   },
   "file_extension": ".py",
   "mimetype": "text/x-python",
   "name": "python",
   "nbconvert_exporter": "python",
   "pygments_lexer": "ipython3",
   "version": "3.10.8"
  },
  "orig_nbformat": 4,
  "vscode": {
   "interpreter": {
    "hash": "b03e53be2cf5b5ef98882fb81028e7e51dc35f2fc862deb7b663ad6cc172ae9c"
   }
  }
 },
 "nbformat": 4,
 "nbformat_minor": 2
}
