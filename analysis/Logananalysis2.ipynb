{
 "cells": [
  {
   "cell_type": "code",
   "execution_count": 7,
   "id": "15d6aadf-f514-484a-a9bc-614228a8ccbe",
   "metadata": {},
   "outputs": [],
   "source": [
    "import pandas as pd\n",
    "import numpy as np\n",
    "import seaborn as sns\n",
    "import matplotlib.pyplot as plt\n",
    "import sys \n",
    "sys.path.append('..')\n",
    "\n",
    "\n",
    "sns.set_theme(style='whitegrid', font_scale=2)\n",
    "\n",
    "DailyInterestRate = pd.read_csv(\"../data/raw/DailyInterestRates/DailyInterestRates.csv\")\n",
    "NewHousingPIndex = pd.read_csv(\"../data/raw/NewHousingPIndex/NewHousingPIndex.csv\")\n",
    "NewInventory = pd.read_csv(\"../data/raw/NewInventory/NewInventory.csv\", low_memory = False)\n",
    "PopEstimate = pd.read_csv(\"../data/raw/PopEstimate/PopEstimate.csv\")"
   ]
  },
  {
   "cell_type": "code",
   "execution_count": 8,
   "id": "fc450198-91ff-4590-9b01-b55280f29cba",
   "metadata": {},
   "outputs": [],
   "source": [
    "from analysis.code import project_functions2 as pf2"
   ]
  },
  {
   "cell_type": "code",
   "execution_count": 10,
   "id": "ab80b47e-94a5-4c44-9c6f-5018e7b63efa",
   "metadata": {},
   "outputs": [
    {
     "name": "stdout",
     "output_type": "stream",
     "text": [
      "Help on module analysis.code.project_functions2 in analysis.code:\n",
      "\n",
      "NAME\n",
      "    analysis.code.project_functions2\n",
      "\n",
      "FUNCTIONS\n",
      "    NHPI_ordering_filtering(NewHousingPIndex)\n",
      "        Takes the NewHousingPIndex dataset and drops a number of erraneous columns and rows, then returns the wrangled dataset.\n",
      "        \n",
      "        Parameters:\n",
      "        *dfs (pandas.DataFrame): specified dataframes containing columns and rows with conserved names.\n",
      "        \n",
      "        Returns:\n",
      "        df: a pandas dataframe, containing only the desired metropolitan areas and columns related to population for further analysis.\n",
      "    \n",
      "    NI_ordering_filtering(NewHousingPIndex)\n",
      "        Takes the NewHousingPIndex dataset and drops a number of erraneous columns and rows, then returns the wrangled dataset.\n",
      "        \n",
      "        Parameters:\n",
      "        *dfs (pandas.DataFrame): specified dataframes containing columns and rows with conserved names.\n",
      "        \n",
      "        Returns:\n",
      "        df: a pandas dataframe, containing only the desired metropolitan areas and columns related to population for further analysis.\n",
      "    \n",
      "    PE_Wrangled(PE_Wrangled)\n",
      "        Takes the Wrangled Population Estimate dataset and drops a number of erraneous rows, modifies names by removing \"-\", \"(CMA)\", and extra spacing, then returns the wrangled dataset with row names that are conserved between all datasets being investigated.\n",
      "        \n",
      "        Parameters:\n",
      "        *dfs (pandas.DataFrame): specified dataframes containing columns and rows with conserved names.\n",
      "        \n",
      "        Returns:\n",
      "        df: a pandas dataframe, containing only the desired metropolitan areas and columns related to population for further analysis, wiht proper names.\n",
      "    \n",
      "    PE_ordering_filtering(PopEstimate)\n",
      "        Takes the Population Estimate dataset and drops a number of erraneous columns and rows, then returns the wrangled dataset.\n",
      "        \n",
      "        Parameters:\n",
      "        *dfs (pandas.DataFrame): specified dataframes containing columns and rows with conserved names.\n",
      "        \n",
      "        Returns:\n",
      "        df: a pandas dataframe, containing only the desired metropolitan areas and columns related to population for further analysis.\n",
      "    \n",
      "    calculate_total_rate_change_NI(NI_Wrangled_Final)\n",
      "        Using the pandas dataframe `NI_Wrangled_Final` with columns \"GEO\" and \"VALUE\", \n",
      "        calculates the total rate change for each unique \"GEO\" value.\n",
      "        \n",
      "        Returns:\n",
      "        a pandas dataframe with columns \"GEO\" and \"NI_rate_total\", sorted in ascending order by \"NI_rate_total\".\n",
      "    \n",
      "    unique_regions(*dfs, col_name='GEO')\n",
      "        Takes pandas dataframes and a conserved region column name and returns a list of sets,\n",
      "        with each set in the list containing the unique regions per given dataframe.\n",
      "        \n",
      "        Parameters:\n",
      "        *dfs (pandas.DataFrame): specified dataframes containing a column with conserved name.\n",
      "        col_name (str): The name of the column containing the region names. (Default is 'GEO').\n",
      "        \n",
      "        Returns:\n",
      "        list: A list of sets, where each set contains the unique regions for a given dataframe.\n",
      "        The first set contains regions unique to the first dataframe, the second set contains regions unique\n",
      "        to the second dataframe, etc.\n",
      "\n",
      "FILE\n",
      "    /Users/loganher/github-classroom/ubco-W2022T2-data301/project-group-group01/analysis/code/project_functions2.py\n",
      "\n",
      "\n"
     ]
    }
   ],
   "source": [
    "help(pf2)"
   ]
  },
  {
   "cell_type": "code",
   "execution_count": null,
   "id": "79ac396c-adba-4dd4-98f2-d4e6f66aca24",
   "metadata": {},
   "outputs": [],
   "source": []
  }
 ],
 "metadata": {
  "kernelspec": {
   "display_name": "Python 3 (ipykernel)",
   "language": "python",
   "name": "python3"
  },
  "language_info": {
   "codemirror_mode": {
    "name": "ipython",
    "version": 3
   },
   "file_extension": ".py",
   "mimetype": "text/x-python",
   "name": "python",
   "nbconvert_exporter": "python",
   "pygments_lexer": "ipython3",
   "version": "3.10.9"
  }
 },
 "nbformat": 4,
 "nbformat_minor": 5
}
