{
 "cells": [
  {
   "attachments": {},
   "cell_type": "markdown",
   "metadata": {},
   "source": [
    "# Logan T Hernandez"
   ]
  },
  {
   "attachments": {},
   "cell_type": "markdown",
   "metadata": {},
   "source": [
    "## Research question/interests\n",
    "\n",
    "**My part of the project will be exploring the change in housing prices, new housing construction, and population of canadian metropolitan areas over time.**\n",
    "\n",
    "My research question is related to the change in available housing, cost, and population of canadian metropolitan areas. I believe that everyone under 30 is worried about the state of the housing market and availability of affordable living. With this concern in mind, I plan to visualize how the market has changed over time relative to population increases of metropolitan hubs. Since hubs provide the greatest opportunity for career advancement, people who want to earn high paying jobs often relocate to hubs; however, the cost of living in the hub also dictates its affordability, with the highest C.O.L. expenditure being housing. Therefore, my analysis will also attempt to determine the most affordable canadian metropolitan hub respective of housing cost and inventory."
   ]
  },
  {
   "cell_type": "code",
   "execution_count": 5,
   "metadata": {},
   "outputs": [],
   "source": [
    "import pandas as pd\n",
    "\n",
    "DailyInterestRate = pd.read_csv(\"../data/raw/DailyInterestRates/DailyInterestRates.csv\")\n",
    "NewHousingPIndex = pd.read_csv(\"../data/raw/NewHousingPIndex/NewHousingPIndex.csv\")\n",
    "NewInventory = pd.read_csv(\"../data/raw/NewInventory/NewInventory.csv\", low_memory = False)\n",
    "PopEstimate = pd.read_csv(\"../data/raw/PopEstimate/PopEstimate.csv\")"
   ]
  },
  {
   "cell_type": "code",
   "execution_count": null,
   "metadata": {},
   "outputs": [],
   "source": []
  }
 ],
 "metadata": {
  "kernelspec": {
   "display_name": "base",
   "language": "python",
   "name": "python3"
  },
  "language_info": {
   "codemirror_mode": {
    "name": "ipython",
    "version": 3
   },
   "file_extension": ".py",
   "mimetype": "text/x-python",
   "name": "python",
   "nbconvert_exporter": "python",
   "pygments_lexer": "ipython3",
   "version": "3.10.8"
  },
  "orig_nbformat": 4,
  "vscode": {
   "interpreter": {
    "hash": "0ed69064c1d3681a1b81d7f25e5e4b2a71039158e95d719b1428552a0ff55377"
   }
  }
 },
 "nbformat": 4,
 "nbformat_minor": 2
}
