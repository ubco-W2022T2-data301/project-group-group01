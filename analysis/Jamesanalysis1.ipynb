{
 "cells": [
  {
   "attachments": {},
   "cell_type": "markdown",
   "metadata": {},
   "source": [
    "# Jiu Yang (James) Wang"
   ]
  },
  {
   "attachments": {},
   "cell_type": "markdown",
   "metadata": {},
   "source": [
    "## Research question/interests\n",
    "\n",
    "**My part of the project will be analyzing the correlation between housing prices and inventory shortfall as compared to population increases.**\n",
    "\n",
    "My research question is looking at the correlation between housing prices and shortfall. Housing affordability is a pivotal issue for my generation, and i believe that the oft touted narrative of phantom overseas buyers is only a narrative meant to distract from the fact that the true cause of housing prices is a lack of new housing as compared to population. \n",
    "\n",
    "I plan to tackle my question by plotting housing price and invetory shortfall. I plan to calculate inventory shortfall by calculating the difference between population increases in regions and the amount of housing built. I will then present this to the reader by visualizing this data in graphs. I may also include the comparison to interest rates, and compare it to the shortfall plot. "
   ]
  },
  {
   "cell_type": "code",
   "execution_count": 3,
   "metadata": {},
   "outputs": [],
   "source": [
    "import pandas as pd\n",
    "\n",
    "DailyInterstRate = pd.read_csv(\"../data/raw/DailyInterestRate.csv\")\n",
    "NewHousingPIndex = pd.read_csv(\"../data/raw/NewHousingPIndex.csv\")\n",
    "NewInventory = pd.read_csv(\"../data/raw/NewInventory.csv\", low_memory = False)\n",
    "PopEstimate = pd.read_csv(\"../data/raw/PopEstimate.csv\")\n",
    "\n"
   ]
  },
  {
   "cell_type": "code",
   "execution_count": 6,
   "metadata": {},
   "outputs": [],
   "source": [
    "#DailyInterstRate.sample(10)\n",
    "#NewHousingPIndex.sample(10)\n",
    "#NewInventory.sample(10)\n",
    "#PopEstimate.sample(10)"
   ]
  },
  {
   "cell_type": "code",
   "execution_count": null,
   "metadata": {},
   "outputs": [],
   "source": []
  }
 ],
 "metadata": {
  "kernelspec": {
   "display_name": "base",
   "language": "python",
   "name": "python3"
  },
  "language_info": {
   "codemirror_mode": {
    "name": "ipython",
    "version": 3
   },
   "file_extension": ".py",
   "mimetype": "text/x-python",
   "name": "python",
   "nbconvert_exporter": "python",
   "pygments_lexer": "ipython3",
   "version": "3.10.8"
  },
  "orig_nbformat": 4,
  "vscode": {
   "interpreter": {
    "hash": "1e6e90c8d65aa2a31cf40c991f20d91422977c91654586be5a787427cf1076ab"
   }
  }
 },
 "nbformat": 4,
 "nbformat_minor": 2
}
